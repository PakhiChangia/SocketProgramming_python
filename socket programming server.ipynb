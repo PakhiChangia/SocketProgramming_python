{
 "cells": [
  {
   "cell_type": "code",
   "execution_count": null,
   "id": "1a99c52e",
   "metadata": {},
   "outputs": [
    {
     "name": "stdout",
     "output_type": "stream",
     "text": [
      "socket created\n",
      "waiting for connection\n",
      "connected with ('127.0.0.1', 59451) pakhi\n"
     ]
    }
   ],
   "source": [
    "import socket\n",
    "s=socket.socket()\n",
    "print(\"socket created\")\n",
    "s.bind((\"localhost\",9999))\n",
    "s.listen(3)\n",
    "print(\"waiting for connection\")\n",
    "while True:\n",
    "    c,addr=s.accept()\n",
    "    name=c.recv(1024).decode()\n",
    "    print(\"connected with\",addr,name)\n",
    "    c.send(bytes(\"welcome\",'utf-8'))"
   ]
  },
  {
   "cell_type": "code",
   "execution_count": null,
   "id": "8555d18b",
   "metadata": {},
   "outputs": [],
   "source": [
    "import socket\n",
    "s=socket.socket()\n",
    "print(\"socket created\")\n",
    "s.bind('localhost',9999)\n",
    "s.listen(3)\n",
    "print(\"waiting for connection\")\n",
    "while True:\n",
    "    c,addr=s.accept()\n",
    "    name=c.recv(1024).decode()\n",
    "    print()"
   ]
  },
  {
   "cell_type": "code",
   "execution_count": 1,
   "id": "637efdc6",
   "metadata": {},
   "outputs": [
    {
     "name": "stdout",
     "output_type": "stream",
     "text": [
      "socket created\n"
     ]
    },
    {
     "ename": "TypeError",
     "evalue": "socket.bind() takes exactly one argument (2 given)",
     "output_type": "error",
     "traceback": [
      "\u001b[1;31m---------------------------------------------------------------------------\u001b[0m",
      "\u001b[1;31mTypeError\u001b[0m                                 Traceback (most recent call last)",
      "\u001b[1;32m~\\AppData\\Local\\Temp/ipykernel_12860/1369358644.py\u001b[0m in \u001b[0;36m<module>\u001b[1;34m\u001b[0m\n\u001b[0;32m      2\u001b[0m \u001b[0ms\u001b[0m\u001b[1;33m=\u001b[0m\u001b[0msocket\u001b[0m\u001b[1;33m.\u001b[0m\u001b[0msocket\u001b[0m\u001b[1;33m(\u001b[0m\u001b[1;33m)\u001b[0m\u001b[1;33m\u001b[0m\u001b[1;33m\u001b[0m\u001b[0m\n\u001b[0;32m      3\u001b[0m \u001b[0mprint\u001b[0m\u001b[1;33m(\u001b[0m\u001b[1;34m\"socket created\"\u001b[0m\u001b[1;33m)\u001b[0m\u001b[1;33m\u001b[0m\u001b[1;33m\u001b[0m\u001b[0m\n\u001b[1;32m----> 4\u001b[1;33m \u001b[0ms\u001b[0m\u001b[1;33m.\u001b[0m\u001b[0mbind\u001b[0m\u001b[1;33m(\u001b[0m\u001b[1;34m'localhost'\u001b[0m\u001b[1;33m,\u001b[0m\u001b[1;36m9999\u001b[0m\u001b[1;33m)\u001b[0m\u001b[1;33m\u001b[0m\u001b[1;33m\u001b[0m\u001b[0m\n\u001b[0m\u001b[0;32m      5\u001b[0m \u001b[0ms\u001b[0m\u001b[1;33m.\u001b[0m\u001b[0mlisten\u001b[0m\u001b[1;33m(\u001b[0m\u001b[1;36m3\u001b[0m\u001b[1;33m)\u001b[0m\u001b[1;33m\u001b[0m\u001b[1;33m\u001b[0m\u001b[0m\n\u001b[0;32m      6\u001b[0m \u001b[0mprint\u001b[0m\u001b[1;33m(\u001b[0m\u001b[1;34m\"waiting for connection\"\u001b[0m\u001b[1;33m)\u001b[0m\u001b[1;33m\u001b[0m\u001b[1;33m\u001b[0m\u001b[0m\n",
      "\u001b[1;31mTypeError\u001b[0m: socket.bind() takes exactly one argument (2 given)"
     ]
    }
   ],
   "source": [
    "import socket\n",
    "s=socket.socket()\n",
    "print(\"socket created\")\n",
    "s.bind('localhost',9999)\n",
    "s.listen(3)\n",
    "print(\"waiting for connection\")\n",
    "while True:\n",
    "    c,addr=s.accept()\n",
    "    name=c.rec(1024).decode()\n",
    "    print(\"connected with\",addr,name)\n",
    "    c.send(bytes(\"welcome\",'utf-8'))"
   ]
  },
  {
   "cell_type": "code",
   "execution_count": null,
   "id": "677d15bf",
   "metadata": {},
   "outputs": [],
   "source": []
  }
 ],
 "metadata": {
  "kernelspec": {
   "display_name": "Python 3 (ipykernel)",
   "language": "python",
   "name": "python3"
  },
  "language_info": {
   "codemirror_mode": {
    "name": "ipython",
    "version": 3
   },
   "file_extension": ".py",
   "mimetype": "text/x-python",
   "name": "python",
   "nbconvert_exporter": "python",
   "pygments_lexer": "ipython3",
   "version": "3.9.7"
  }
 },
 "nbformat": 4,
 "nbformat_minor": 5
}
